{
 "cells": [
  {
   "cell_type": "code",
   "execution_count": 91,
   "metadata": {},
   "outputs": [],
   "source": [
    "import os\n",
    "import cv2\n",
    "import matplotlib.pyplot as plt\n",
    "import numpy as np\n",
    "import time\n",
    "\n",
    "from pymilvus import MilvusClient\n",
    "#from pymilvus import connections, FieldSchema, CollectionSchema, DataType, Collection, utility\n",
    "from IPython.display import display, Image, HTML"
   ]
  },
  {
   "cell_type": "markdown",
   "metadata": {},
   "source": [
    "### Configurar Milvus - Base de datos de Vectores"
   ]
  },
  {
   "cell_type": "code",
   "execution_count": 92,
   "metadata": {},
   "outputs": [],
   "source": [
    "DIMENSION = 128\n",
    "COLLECTION_NAME = \"fashion_recommender\"\n",
    "\n",
    "db_client = MilvusClient(uri=\"fashion.db\")\n",
    "\n",
    "def crear_coleccion():\n",
    "\n",
    "    if db_client.has_collection(COLLECTION_NAME):\n",
    "       db_client.drop_collection(COLLECTION_NAME)\n",
    "\n",
    "    schema = MilvusClient.create_schema(\n",
    "        auto_id=True,\n",
    "        enable_dynamic_field=False\n",
    "    )\n",
    "\n",
    "    db_client.create_collection(\n",
    "        collection_name=COLLECTION_NAME,\n",
    "        vector_field_name=\"image_embeddings\",\n",
    "        dimension=DIMENSION,\n",
    "        auto_id=True,\n",
    "        enable_dynamic_field=True,\n",
    "        metric_type=\"COSINE\",\n",
    "    )\n",
    "\n",
    "def extraer_features(folder_imagen: str, nombre_imagen: str):\n",
    "    # Extraer características de imágenes con SIFT\n",
    "    sift = cv2.SIFT_create()\n",
    "    ruta_imagen = os.path.join(folder_imagen, nombre_imagen)\n",
    "    imagen = cv2.imread(ruta_imagen, cv2.IMREAD_GRAYSCALE)\n",
    "    if imagen is None:\n",
    "        print(f\"No se pudo leer la imagen '{ruta_imagen}'.\")\n",
    "        return None\n",
    "    keypoints, descriptors = sift.detectAndCompute(imagen, None)\n",
    "    promedio_descriptores = np.mean(descriptors, axis=0)\n",
    "    return promedio_descriptores.tolist()\n",
    "\n",
    "def insertar_en_coleccion(folder_imagen: str):\n",
    "    start = time.time()\n",
    "    # Recorrer las imágenes en el directorio\n",
    "    count = 0\n",
    "    list_dirs = os.listdir(folder_imagen)\n",
    "    for nombre_imagen in list_dirs:\n",
    "        features_imagen = extraer_features(folder_imagen, nombre_imagen)\n",
    "        if not features_imagen:\n",
    "            print(f\"No se pudo leer la imagen '{nombre_imagen}'.\")\n",
    "            continue\n",
    "\n",
    "        db_client.insert(COLLECTION_NAME, {\"image_id\": nombre_imagen ,\"image_embeddings\": features_imagen })\n",
    "        count += 1\n",
    "\n",
    "        if count % 1000 == 0 or count == len(list_dirs):\n",
    "            print(f\"images -> {count}\")\n",
    "    \n",
    "    end = time.time\n",
    "    print(f\"tiempo de ejecucion (seg) {round(end - start, 4)}\")\n",
    "    print(f\"Total imagenes insertadas: {count}\")\n"
   ]
  },
  {
   "cell_type": "code",
   "execution_count": 93,
   "metadata": {},
   "outputs": [
    {
     "name": "stdout",
     "output_type": "stream",
     "text": [
      "images -> 1000\n",
      "images -> 2000\n",
      "images -> 3000\n",
      "images -> 4000\n",
      "images -> 5000\n",
      "images -> 6000\n",
      "No se pudo leer la imagen 'fashion-dataset/images/.DS_Store'.\n",
      "No se pudo leer la imagen '.DS_Store'.\n",
      "images -> 7000\n",
      "images -> 8000\n",
      "images -> 9000\n",
      "images -> 10000\n",
      "images -> 11000\n",
      "images -> 12000\n",
      "images -> 13000\n",
      "images -> 14000\n",
      "images -> 15000\n",
      "images -> 16000\n",
      "images -> 17000\n",
      "images -> 18000\n",
      "images -> 19000\n",
      "images -> 20000\n",
      "images -> 21000\n",
      "images -> 22000\n",
      "images -> 23000\n",
      "images -> 24000\n",
      "images -> 25000\n",
      "images -> 26000\n",
      "images -> 27000\n",
      "images -> 28000\n",
      "images -> 29000\n",
      "images -> 30000\n",
      "images -> 31000\n",
      "images -> 32000\n",
      "images -> 33000\n",
      "images -> 34000\n",
      "images -> 35000\n",
      "images -> 36000\n",
      "images -> 37000\n",
      "images -> 38000\n",
      "images -> 39000\n",
      "images -> 40000\n",
      "images -> 41000\n"
     ]
    },
    {
     "ename": "AxisError",
     "evalue": "axis 0 is out of bounds for array of dimension 0",
     "output_type": "error",
     "traceback": [
      "\u001b[0;31m---------------------------------------------------------------------------\u001b[0m",
      "\u001b[0;31mAxisError\u001b[0m                                 Traceback (most recent call last)",
      "Cell \u001b[0;32mIn[93], line 4\u001b[0m\n\u001b[1;32m      1\u001b[0m folder_imagenes \u001b[38;5;241m=\u001b[39m \u001b[38;5;124m\"\u001b[39m\u001b[38;5;124mfashion-dataset/images\u001b[39m\u001b[38;5;124m\"\u001b[39m\n\u001b[1;32m      3\u001b[0m crear_coleccion()\n\u001b[0;32m----> 4\u001b[0m \u001b[43minsertar_en_coleccion\u001b[49m\u001b[43m(\u001b[49m\u001b[43mfolder_imagenes\u001b[49m\u001b[43m)\u001b[49m\n",
      "Cell \u001b[0;32mIn[92], line 43\u001b[0m, in \u001b[0;36minsertar_en_coleccion\u001b[0;34m(folder_imagen)\u001b[0m\n\u001b[1;32m     41\u001b[0m list_dirs \u001b[38;5;241m=\u001b[39m os\u001b[38;5;241m.\u001b[39mlistdir(folder_imagen)\n\u001b[1;32m     42\u001b[0m \u001b[38;5;28;01mfor\u001b[39;00m nombre_imagen \u001b[38;5;129;01min\u001b[39;00m list_dirs:\n\u001b[0;32m---> 43\u001b[0m     features_imagen \u001b[38;5;241m=\u001b[39m \u001b[43mextraer_features\u001b[49m\u001b[43m(\u001b[49m\u001b[43mfolder_imagen\u001b[49m\u001b[43m,\u001b[49m\u001b[43m \u001b[49m\u001b[43mnombre_imagen\u001b[49m\u001b[43m)\u001b[49m\n\u001b[1;32m     44\u001b[0m     \u001b[38;5;28;01mif\u001b[39;00m \u001b[38;5;129;01mnot\u001b[39;00m features_imagen:\n\u001b[1;32m     45\u001b[0m         \u001b[38;5;28mprint\u001b[39m(\u001b[38;5;124mf\u001b[39m\u001b[38;5;124m\"\u001b[39m\u001b[38;5;124mNo se pudo leer la imagen \u001b[39m\u001b[38;5;124m'\u001b[39m\u001b[38;5;132;01m{\u001b[39;00mnombre_imagen\u001b[38;5;132;01m}\u001b[39;00m\u001b[38;5;124m'\u001b[39m\u001b[38;5;124m.\u001b[39m\u001b[38;5;124m\"\u001b[39m)\n",
      "Cell \u001b[0;32mIn[92], line 34\u001b[0m, in \u001b[0;36mextraer_features\u001b[0;34m(folder_imagen, nombre_imagen)\u001b[0m\n\u001b[1;32m     32\u001b[0m     \u001b[38;5;28;01mreturn\u001b[39;00m \u001b[38;5;28;01mNone\u001b[39;00m\n\u001b[1;32m     33\u001b[0m keypoints, descriptors \u001b[38;5;241m=\u001b[39m sift\u001b[38;5;241m.\u001b[39mdetectAndCompute(imagen, \u001b[38;5;28;01mNone\u001b[39;00m)\n\u001b[0;32m---> 34\u001b[0m promedio_descriptores \u001b[38;5;241m=\u001b[39m \u001b[43mnp\u001b[49m\u001b[38;5;241;43m.\u001b[39;49m\u001b[43mmean\u001b[49m\u001b[43m(\u001b[49m\u001b[43mdescriptors\u001b[49m\u001b[43m,\u001b[49m\u001b[43m \u001b[49m\u001b[43maxis\u001b[49m\u001b[38;5;241;43m=\u001b[39;49m\u001b[38;5;241;43m0\u001b[39;49m\u001b[43m)\u001b[49m\n\u001b[1;32m     35\u001b[0m \u001b[38;5;28;01mreturn\u001b[39;00m promedio_descriptores\u001b[38;5;241m.\u001b[39mtolist()\n",
      "File \u001b[0;32m~/my-stuff/utec master/projects/fashion-btree/.myvenv/lib/python3.12/site-packages/numpy/_core/fromnumeric.py:3904\u001b[0m, in \u001b[0;36mmean\u001b[0;34m(a, axis, dtype, out, keepdims, where)\u001b[0m\n\u001b[1;32m   3901\u001b[0m     \u001b[38;5;28;01melse\u001b[39;00m:\n\u001b[1;32m   3902\u001b[0m         \u001b[38;5;28;01mreturn\u001b[39;00m mean(axis\u001b[38;5;241m=\u001b[39maxis, dtype\u001b[38;5;241m=\u001b[39mdtype, out\u001b[38;5;241m=\u001b[39mout, \u001b[38;5;241m*\u001b[39m\u001b[38;5;241m*\u001b[39mkwargs)\n\u001b[0;32m-> 3904\u001b[0m \u001b[38;5;28;01mreturn\u001b[39;00m \u001b[43m_methods\u001b[49m\u001b[38;5;241;43m.\u001b[39;49m\u001b[43m_mean\u001b[49m\u001b[43m(\u001b[49m\u001b[43ma\u001b[49m\u001b[43m,\u001b[49m\u001b[43m \u001b[49m\u001b[43maxis\u001b[49m\u001b[38;5;241;43m=\u001b[39;49m\u001b[43maxis\u001b[49m\u001b[43m,\u001b[49m\u001b[43m \u001b[49m\u001b[43mdtype\u001b[49m\u001b[38;5;241;43m=\u001b[39;49m\u001b[43mdtype\u001b[49m\u001b[43m,\u001b[49m\n\u001b[1;32m   3905\u001b[0m \u001b[43m                      \u001b[49m\u001b[43mout\u001b[49m\u001b[38;5;241;43m=\u001b[39;49m\u001b[43mout\u001b[49m\u001b[43m,\u001b[49m\u001b[43m \u001b[49m\u001b[38;5;241;43m*\u001b[39;49m\u001b[38;5;241;43m*\u001b[39;49m\u001b[43mkwargs\u001b[49m\u001b[43m)\u001b[49m\n",
      "File \u001b[0;32m~/my-stuff/utec master/projects/fashion-btree/.myvenv/lib/python3.12/site-packages/numpy/_core/_methods.py:124\u001b[0m, in \u001b[0;36m_mean\u001b[0;34m(a, axis, dtype, out, keepdims, where)\u001b[0m\n\u001b[1;32m    120\u001b[0m arr \u001b[38;5;241m=\u001b[39m asanyarray(a)\n\u001b[1;32m    122\u001b[0m is_float16_result \u001b[38;5;241m=\u001b[39m \u001b[38;5;28;01mFalse\u001b[39;00m\n\u001b[0;32m--> 124\u001b[0m rcount \u001b[38;5;241m=\u001b[39m \u001b[43m_count_reduce_items\u001b[49m\u001b[43m(\u001b[49m\u001b[43marr\u001b[49m\u001b[43m,\u001b[49m\u001b[43m \u001b[49m\u001b[43maxis\u001b[49m\u001b[43m,\u001b[49m\u001b[43m \u001b[49m\u001b[43mkeepdims\u001b[49m\u001b[38;5;241;43m=\u001b[39;49m\u001b[43mkeepdims\u001b[49m\u001b[43m,\u001b[49m\u001b[43m \u001b[49m\u001b[43mwhere\u001b[49m\u001b[38;5;241;43m=\u001b[39;49m\u001b[43mwhere\u001b[49m\u001b[43m)\u001b[49m\n\u001b[1;32m    125\u001b[0m \u001b[38;5;28;01mif\u001b[39;00m rcount \u001b[38;5;241m==\u001b[39m \u001b[38;5;241m0\u001b[39m \u001b[38;5;28;01mif\u001b[39;00m where \u001b[38;5;129;01mis\u001b[39;00m \u001b[38;5;28;01mTrue\u001b[39;00m \u001b[38;5;28;01melse\u001b[39;00m umr_any(rcount \u001b[38;5;241m==\u001b[39m \u001b[38;5;241m0\u001b[39m, axis\u001b[38;5;241m=\u001b[39m\u001b[38;5;28;01mNone\u001b[39;00m):\n\u001b[1;32m    126\u001b[0m     warnings\u001b[38;5;241m.\u001b[39mwarn(\u001b[38;5;124m\"\u001b[39m\u001b[38;5;124mMean of empty slice.\u001b[39m\u001b[38;5;124m\"\u001b[39m, \u001b[38;5;167;01mRuntimeWarning\u001b[39;00m, stacklevel\u001b[38;5;241m=\u001b[39m\u001b[38;5;241m2\u001b[39m)\n",
      "File \u001b[0;32m~/my-stuff/utec master/projects/fashion-btree/.myvenv/lib/python3.12/site-packages/numpy/_core/_methods.py:87\u001b[0m, in \u001b[0;36m_count_reduce_items\u001b[0;34m(arr, axis, keepdims, where)\u001b[0m\n\u001b[1;32m     85\u001b[0m     items \u001b[38;5;241m=\u001b[39m \u001b[38;5;241m1\u001b[39m\n\u001b[1;32m     86\u001b[0m     \u001b[38;5;28;01mfor\u001b[39;00m ax \u001b[38;5;129;01min\u001b[39;00m axis:\n\u001b[0;32m---> 87\u001b[0m         items \u001b[38;5;241m*\u001b[39m\u001b[38;5;241m=\u001b[39m arr\u001b[38;5;241m.\u001b[39mshape[\u001b[43mmu\u001b[49m\u001b[38;5;241;43m.\u001b[39;49m\u001b[43mnormalize_axis_index\u001b[49m\u001b[43m(\u001b[49m\u001b[43max\u001b[49m\u001b[43m,\u001b[49m\u001b[43m \u001b[49m\u001b[43marr\u001b[49m\u001b[38;5;241;43m.\u001b[39;49m\u001b[43mndim\u001b[49m\u001b[43m)\u001b[49m]\n\u001b[1;32m     88\u001b[0m     items \u001b[38;5;241m=\u001b[39m nt\u001b[38;5;241m.\u001b[39mintp(items)\n\u001b[1;32m     89\u001b[0m \u001b[38;5;28;01melse\u001b[39;00m:\n\u001b[1;32m     90\u001b[0m     \u001b[38;5;66;03m# TODO: Optimize case when `where` is broadcast along a non-reduction\u001b[39;00m\n\u001b[1;32m     91\u001b[0m     \u001b[38;5;66;03m# axis and full sum is more excessive than needed.\u001b[39;00m\n\u001b[1;32m     92\u001b[0m \n\u001b[1;32m     93\u001b[0m     \u001b[38;5;66;03m# guarded to protect circular imports\u001b[39;00m\n",
      "\u001b[0;31mAxisError\u001b[0m: axis 0 is out of bounds for array of dimension 0"
     ]
    }
   ],
   "source": [
    "folder_imagenes = \"fashion-dataset/images\"\n",
    "\n",
    "crear_coleccion()\n",
    "insertar_en_coleccion(folder_imagenes)"
   ]
  },
  {
   "cell_type": "code",
   "execution_count": 97,
   "metadata": {},
   "outputs": [
    {
     "data": {
      "text/plain": [
       "data: [\"[{'id': 453823012167236962, 'distance': 0.9999997615814209, 'entity': {'image_id': '1590.jpg'}}, {'id': 453824084139886024, 'distance': 0.9973840713500977, 'entity': {'image_id': '4650.jpg'}}, {'id': 453824723585668848, 'distance': 0.9972014427185059, 'entity': {'image_id': '5712.jpg'}}, {'id': 453822740655774600, 'distance': 0.9969114661216736, 'entity': {'image_id': '13198.jpg'}}, {'id': 453823887311678738, 'distance': 0.9967807531356812, 'entity': {'image_id': '15410.jpg'}}, {'id': 453822756717337974, 'distance': 0.9967342019081116, 'entity': {'image_id': '4570.jpg'}}, {'id': 453824856525711246, 'distance': 0.9967103600502014, 'entity': {'image_id': '3943.jpg'}}, {'id': 453823317679563746, 'distance': 0.9966440200805664, 'entity': {'image_id': '38155.jpg'}}, {'id': 453823613688646186, 'distance': 0.9966123104095459, 'entity': {'image_id': '7753.jpg'}}, {'id': 453823618076150460, 'distance': 0.9965291023254395, 'entity': {'image_id': '18724.jpg'}}]\"] "
      ]
     },
     "execution_count": 97,
     "metadata": {},
     "output_type": "execute_result"
    }
   ],
   "source": [
    "query_folder = \"fashion-dataset/test_images\"\n",
    "query_image_name = \"1590.jpg\"\n",
    "features = extraer_features(query_folder, query_image_name)\n",
    "\n",
    "results = db_client.search(\n",
    "    COLLECTION_NAME,\n",
    "    data=[features],\n",
    "    output_fields=[\"image_id\"],\n",
    "    search_params={\"metric_type\": \"COSINE\"}\n",
    ")\n",
    "results"
   ]
  },
  {
   "cell_type": "code",
   "execution_count": 98,
   "metadata": {},
   "outputs": [
    {
     "name": "stdout",
     "output_type": "stream",
     "text": [
      "{'image_id': '1590.jpg'}\n",
      "{'image_id': '4650.jpg'}\n",
      "{'image_id': '5712.jpg'}\n",
      "{'image_id': '13198.jpg'}\n",
      "{'image_id': '15410.jpg'}\n",
      "{'image_id': '4570.jpg'}\n",
      "{'image_id': '3943.jpg'}\n",
      "{'image_id': '38155.jpg'}\n",
      "{'image_id': '7753.jpg'}\n",
      "{'image_id': '18724.jpg'}\n"
     ]
    }
   ],
   "source": [
    "for result in results:\n",
    "    for hit in result[:10]:\n",
    "        print(hit[\"entity\"])"
   ]
  },
  {
   "cell_type": "code",
   "execution_count": 99,
   "metadata": {},
   "outputs": [
    {
     "data": {
      "text/html": [
       "\n",
       "                <div style=\"display: inline-block; text-align: center; margin: 10px;\">\n",
       "                    <img src=\"fashion-dataset/images/1590.jpg\" width=\"150\" /><br>\n",
       "                    <b style=\"width=180\">1590.jpg</b><br>\n",
       "                </div>\n",
       "            \n",
       "                <div style=\"display: inline-block; text-align: center; margin: 10px;\">\n",
       "                    <img src=\"fashion-dataset/images/4650.jpg\" width=\"150\" /><br>\n",
       "                    <b style=\"width=180\">4650.jpg</b><br>\n",
       "                </div>\n",
       "            \n",
       "                <div style=\"display: inline-block; text-align: center; margin: 10px;\">\n",
       "                    <img src=\"fashion-dataset/images/5712.jpg\" width=\"150\" /><br>\n",
       "                    <b style=\"width=180\">5712.jpg</b><br>\n",
       "                </div>\n",
       "            \n",
       "                <div style=\"display: inline-block; text-align: center; margin: 10px;\">\n",
       "                    <img src=\"fashion-dataset/images/13198.jpg\" width=\"150\" /><br>\n",
       "                    <b style=\"width=180\">13198.jpg</b><br>\n",
       "                </div>\n",
       "            \n",
       "                <div style=\"display: inline-block; text-align: center; margin: 10px;\">\n",
       "                    <img src=\"fashion-dataset/images/15410.jpg\" width=\"150\" /><br>\n",
       "                    <b style=\"width=180\">15410.jpg</b><br>\n",
       "                </div>\n",
       "            \n",
       "                <div style=\"display: inline-block; text-align: center; margin: 10px;\">\n",
       "                    <img src=\"fashion-dataset/images/4570.jpg\" width=\"150\" /><br>\n",
       "                    <b style=\"width=180\">4570.jpg</b><br>\n",
       "                </div>\n",
       "            \n",
       "                <div style=\"display: inline-block; text-align: center; margin: 10px;\">\n",
       "                    <img src=\"fashion-dataset/images/3943.jpg\" width=\"150\" /><br>\n",
       "                    <b style=\"width=180\">3943.jpg</b><br>\n",
       "                </div>\n",
       "            \n",
       "                <div style=\"display: inline-block; text-align: center; margin: 10px;\">\n",
       "                    <img src=\"fashion-dataset/images/38155.jpg\" width=\"150\" /><br>\n",
       "                    <b style=\"width=180\">38155.jpg</b><br>\n",
       "                </div>\n",
       "            \n",
       "                <div style=\"display: inline-block; text-align: center; margin: 10px;\">\n",
       "                    <img src=\"fashion-dataset/images/7753.jpg\" width=\"150\" /><br>\n",
       "                    <b style=\"width=180\">7753.jpg</b><br>\n",
       "                </div>\n",
       "            \n",
       "                <div style=\"display: inline-block; text-align: center; margin: 10px;\">\n",
       "                    <img src=\"fashion-dataset/images/18724.jpg\" width=\"150\" /><br>\n",
       "                    <b style=\"width=180\">18724.jpg</b><br>\n",
       "                </div>\n",
       "            "
      ],
      "text/plain": [
       "<IPython.core.display.HTML object>"
      ]
     },
     "metadata": {},
     "output_type": "display_data"
    }
   ],
   "source": [
    "def display_products(results: list):\n",
    "    html = \"\"\n",
    "    for result in results:\n",
    "        for hit in result[:10]:\n",
    "            html += f\"\"\"\n",
    "                <div style=\"display: inline-block; text-align: center; margin: 10px;\">\n",
    "                    <img src=\"fashion-dataset/images/{hit[\"entity\"][\"image_id\"]}\" width=\"150\" /><br>\n",
    "                    <b style=\"width=180\">{hit[\"entity\"][\"image_id\"]}</b><br>\n",
    "                </div>\n",
    "            \"\"\"\n",
    "\n",
    "    display(HTML(html))\n",
    "\n",
    "display_products(results)"
   ]
  },
  {
   "cell_type": "code",
   "execution_count": null,
   "metadata": {},
   "outputs": [],
   "source": []
  }
 ],
 "metadata": {
  "kernelspec": {
   "display_name": ".myvenv",
   "language": "python",
   "name": "python3"
  },
  "language_info": {
   "codemirror_mode": {
    "name": "ipython",
    "version": 3
   },
   "file_extension": ".py",
   "mimetype": "text/x-python",
   "name": "python",
   "nbconvert_exporter": "python",
   "pygments_lexer": "ipython3",
   "version": "3.12.1"
  }
 },
 "nbformat": 4,
 "nbformat_minor": 2
}
