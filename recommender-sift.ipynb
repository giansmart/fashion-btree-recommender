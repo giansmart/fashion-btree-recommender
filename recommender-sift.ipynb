{
 "cells": [
  {
   "cell_type": "code",
   "execution_count": 81,
   "metadata": {},
   "outputs": [],
   "source": [
    "import os\n",
    "import cv2\n",
    "import matplotlib.pyplot as plt\n",
    "import numpy as np\n",
    "\n",
    "from pymilvus import MilvusClient\n",
    "from pymilvus import connections, FieldSchema, CollectionSchema, DataType, Collection, utility\n",
    "from IPython.display import display, Image, HTML"
   ]
  },
  {
   "cell_type": "markdown",
   "metadata": {},
   "source": [
    "### Configurar Milvus - Base de datos de Vectores"
   ]
  },
  {
   "cell_type": "code",
   "execution_count": null,
   "metadata": {},
   "outputs": [],
   "source": [
    "client = MilvusClient(\"fashion_demo.db\")\n",
    "if client.has_collection(\"fashion_demo\"):\n",
    "    print('exists')\n",
    "client.drop_collection(collection_name=\"fashion_demo.db\")"
   ]
  },
  {
   "cell_type": "code",
   "execution_count": null,
   "metadata": {},
   "outputs": [],
   "source": [
    "DIMENSION = 128\n",
    "COLLECTION_NAME = \"fashion_recommender\"\n",
    "\n",
    "db_client = MilvusClient(uri=\"fashion.db\")\n",
    "\n",
    "def crear_coleccion():\n",
    "\n",
    "    if db_client.has_collection(COLLECTION_NAME):\n",
    "       db_client.drop_collection(COLLECTION_NAME)\n",
    "\n",
    "    schema = MilvusClient.create_schema(\n",
    "        auto_id=True,\n",
    "        enable_dynamic_field=False\n",
    "    )\n",
    "\n",
    "    db_client.create_collection(\n",
    "        collection_name=COLLECTION_NAME,\n",
    "        vector_field_name=\"image_embeddings\",\n",
    "        dimension=DIMENSION,\n",
    "        auto_id=True,\n",
    "        enable_dynamic_field=True,\n",
    "        metric_type=\"COSINE\",\n",
    "    )\n",
    "\n",
    "def extraer_features(folder_imagen: str, nombre_imagen: str):\n",
    "    # Extraer características de imágenes con SIFT\n",
    "    sift = cv2.SIFT_create()\n",
    "    ruta_imagen = os.path.join(folder_imagen, nombre_imagen)\n",
    "    imagen = cv2.imread(ruta_imagen, cv2.IMREAD_GRAYSCALE)\n",
    "    if imagen is None:\n",
    "        print(f\"No se pudo leer la imagen '{ruta_imagen}'.\")\n",
    "        return None\n",
    "    keypoints, descriptors = sift.detectAndCompute(imagen, None)\n",
    "    promedio_descriptores = np.mean(descriptors, axis=0)\n",
    "    return promedio_descriptores.tolist()\n",
    "\n",
    "def insertar_en_coleccion(folder_imagen: str):\n",
    "    # Recorrer las imágenes en el directorio\n",
    "    count = 0\n",
    "    for nombre_imagen in os.listdir(folder_imagen):\n",
    "        features_imagen = extraer_features(folder_imagen, nombre_imagen)\n",
    "        if not features_imagen:\n",
    "            print(f\"No se pudo leer la imagen '{nombre_imagen}'.\")\n",
    "            continue\n",
    "\n",
    "        db_client.insert(COLLECTION_NAME, {\"image_id\": nombre_imagen ,\"image_embeddings\": features_imagen })\n",
    "        count += 1\n",
    "\n",
    "        if count == 1000:\n",
    "            break\n",
    "    \n",
    "    print(f\"Total imagenes insertadas: {count}\")\n"
   ]
  },
  {
   "cell_type": "code",
   "execution_count": 54,
   "metadata": {},
   "outputs": [
    {
     "name": "stdout",
     "output_type": "stream",
     "text": [
      "Total imagenes insertadas: 1000\n"
     ]
    }
   ],
   "source": [
    "crear_coleccion()\n",
    "folder_imagenes = \"fashion-dataset/images\"\n",
    "insertar_en_coleccion(folder_imagenes)"
   ]
  },
  {
   "cell_type": "code",
   "execution_count": 84,
   "metadata": {},
   "outputs": [
    {
     "data": {
      "text/plain": [
       "data: [\"[{'id': 453783406382155306, 'distance': 0.9960609674453735, 'entity': {'image_id': '8997.jpg'}}, {'id': 453783417167284094, 'distance': 0.9952723979949951, 'entity': {'image_id': '26526.jpg'}}, {'id': 453783375998616142, 'distance': 0.9951582551002502, 'entity': {'image_id': '28641.jpg'}}, {'id': 453783390461363244, 'distance': 0.9948838949203491, 'entity': {'image_id': '47053.jpg'}}, {'id': 453783410780669632, 'distance': 0.993597686290741, 'entity': {'image_id': '54629.jpg'}}, {'id': 453783394558936236, 'distance': 0.9935033917427063, 'entity': {'image_id': '6819.jpg'}}, {'id': 453783364616323310, 'distance': 0.9934462308883667, 'entity': {'image_id': '2882.jpg'}}, {'id': 453783374894465576, 'distance': 0.9929875731468201, 'entity': {'image_id': '20235.jpg'}}, {'id': 453783369736257946, 'distance': 0.9923688173294067, 'entity': {'image_id': '39943.jpg'}}, {'id': 453783372310512100, 'distance': 0.9921301007270813, 'entity': {'image_id': '11942.jpg'}}]\"] "
      ]
     },
     "execution_count": 84,
     "metadata": {},
     "output_type": "execute_result"
    }
   ],
   "source": [
    "query_folder = \"fashion-dataset/test_images\"\n",
    "query_image_name = \"1590.jpg\"\n",
    "features = extraer_features(query_folder, query_image_name)\n",
    "\n",
    "results = db_client.search(\n",
    "    COLLECTION_NAME,\n",
    "    data=[features],\n",
    "    output_fields=[\"image_id\"],\n",
    "    search_params={\"metric_type\": \"COSINE\"}\n",
    ")\n",
    "results"
   ]
  },
  {
   "cell_type": "code",
   "execution_count": 85,
   "metadata": {},
   "outputs": [
    {
     "name": "stdout",
     "output_type": "stream",
     "text": [
      "{'image_id': '8997.jpg'}\n",
      "{'image_id': '26526.jpg'}\n",
      "{'image_id': '28641.jpg'}\n",
      "{'image_id': '47053.jpg'}\n",
      "{'image_id': '54629.jpg'}\n",
      "{'image_id': '6819.jpg'}\n",
      "{'image_id': '2882.jpg'}\n",
      "{'image_id': '20235.jpg'}\n",
      "{'image_id': '39943.jpg'}\n",
      "{'image_id': '11942.jpg'}\n"
     ]
    }
   ],
   "source": [
    "for result in results:\n",
    "    for hit in result[:10]:\n",
    "        print(hit[\"entity\"])"
   ]
  },
  {
   "cell_type": "code",
   "execution_count": 87,
   "metadata": {},
   "outputs": [
    {
     "data": {
      "text/html": [
       "\n",
       "                <div style=\"display: inline-block; text-align: center; margin: 10px;\">\n",
       "                    <img src=\"fashion-dataset/images/8997.jpg\" width=\"150\" /><br>\n",
       "                    <b style=\"width=180\">8997.jpg</b><br>\n",
       "                </div>\n",
       "            \n",
       "                <div style=\"display: inline-block; text-align: center; margin: 10px;\">\n",
       "                    <img src=\"fashion-dataset/images/26526.jpg\" width=\"150\" /><br>\n",
       "                    <b style=\"width=180\">26526.jpg</b><br>\n",
       "                </div>\n",
       "            \n",
       "                <div style=\"display: inline-block; text-align: center; margin: 10px;\">\n",
       "                    <img src=\"fashion-dataset/images/28641.jpg\" width=\"150\" /><br>\n",
       "                    <b style=\"width=180\">28641.jpg</b><br>\n",
       "                </div>\n",
       "            \n",
       "                <div style=\"display: inline-block; text-align: center; margin: 10px;\">\n",
       "                    <img src=\"fashion-dataset/images/47053.jpg\" width=\"150\" /><br>\n",
       "                    <b style=\"width=180\">47053.jpg</b><br>\n",
       "                </div>\n",
       "            \n",
       "                <div style=\"display: inline-block; text-align: center; margin: 10px;\">\n",
       "                    <img src=\"fashion-dataset/images/54629.jpg\" width=\"150\" /><br>\n",
       "                    <b style=\"width=180\">54629.jpg</b><br>\n",
       "                </div>\n",
       "            \n",
       "                <div style=\"display: inline-block; text-align: center; margin: 10px;\">\n",
       "                    <img src=\"fashion-dataset/images/6819.jpg\" width=\"150\" /><br>\n",
       "                    <b style=\"width=180\">6819.jpg</b><br>\n",
       "                </div>\n",
       "            \n",
       "                <div style=\"display: inline-block; text-align: center; margin: 10px;\">\n",
       "                    <img src=\"fashion-dataset/images/2882.jpg\" width=\"150\" /><br>\n",
       "                    <b style=\"width=180\">2882.jpg</b><br>\n",
       "                </div>\n",
       "            \n",
       "                <div style=\"display: inline-block; text-align: center; margin: 10px;\">\n",
       "                    <img src=\"fashion-dataset/images/20235.jpg\" width=\"150\" /><br>\n",
       "                    <b style=\"width=180\">20235.jpg</b><br>\n",
       "                </div>\n",
       "            \n",
       "                <div style=\"display: inline-block; text-align: center; margin: 10px;\">\n",
       "                    <img src=\"fashion-dataset/images/39943.jpg\" width=\"150\" /><br>\n",
       "                    <b style=\"width=180\">39943.jpg</b><br>\n",
       "                </div>\n",
       "            \n",
       "                <div style=\"display: inline-block; text-align: center; margin: 10px;\">\n",
       "                    <img src=\"fashion-dataset/images/11942.jpg\" width=\"150\" /><br>\n",
       "                    <b style=\"width=180\">11942.jpg</b><br>\n",
       "                </div>\n",
       "            "
      ],
      "text/plain": [
       "<IPython.core.display.HTML object>"
      ]
     },
     "metadata": {},
     "output_type": "display_data"
    }
   ],
   "source": [
    "def display_products(results: list):\n",
    "    html = \"\"\n",
    "    for result in results:\n",
    "        for hit in result[:10]:\n",
    "            html += f\"\"\"\n",
    "                <div style=\"display: inline-block; text-align: center; margin: 10px;\">\n",
    "                    <img src=\"fashion-dataset/images/{hit[\"entity\"][\"image_id\"]}\" width=\"150\" /><br>\n",
    "                    <b style=\"width=180\">{hit[\"entity\"][\"image_id\"]}</b><br>\n",
    "                </div>\n",
    "            \"\"\"\n",
    "\n",
    "    display(HTML(html))\n",
    "\n",
    "display_products(results)"
   ]
  }
 ],
 "metadata": {
  "kernelspec": {
   "display_name": ".myvenv",
   "language": "python",
   "name": "python3"
  },
  "language_info": {
   "codemirror_mode": {
    "name": "ipython",
    "version": 3
   },
   "file_extension": ".py",
   "mimetype": "text/x-python",
   "name": "python",
   "nbconvert_exporter": "python",
   "pygments_lexer": "ipython3",
   "version": "3.12.1"
  }
 },
 "nbformat": 4,
 "nbformat_minor": 2
}
